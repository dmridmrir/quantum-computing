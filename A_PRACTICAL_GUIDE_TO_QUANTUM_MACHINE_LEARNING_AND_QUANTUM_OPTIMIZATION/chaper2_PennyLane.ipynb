{
 "cells": [
  {
   "cell_type": "code",
   "execution_count": 2,
   "id": "914f9e0e-2b1c-423a-adde-3bfc9fc853b0",
   "metadata": {
    "tags": []
   },
   "outputs": [
    {
     "name": "stdout",
     "output_type": "stream",
     "text": [
      "Collecting pennylane==0.26\n",
      "  Downloading PennyLane-0.26.0-py3-none-any.whl (1.0 MB)\n",
      "\u001b[2K     \u001b[90m━━━━━━━━━━━━━━━━━━━━━━━━━━━━━━━━━━━━━━━━\u001b[0m \u001b[32m1.0/1.0 MB\u001b[0m \u001b[31m1.8 MB/s\u001b[0m eta \u001b[36m0:00:00\u001b[0m:00:01\u001b[0m\n",
      "\u001b[?25hRequirement already satisfied: cachetools in /opt/conda/lib/python3.10/site-packages (from pennylane==0.26) (5.3.2)\n",
      "Requirement already satisfied: networkx in /opt/conda/lib/python3.10/site-packages (from pennylane==0.26) (3.1)\n",
      "Collecting semantic-version>=2.7\n",
      "  Downloading semantic_version-2.10.0-py2.py3-none-any.whl (15 kB)\n",
      "Collecting appdirs\n",
      "  Downloading appdirs-1.4.4-py2.py3-none-any.whl (9.6 kB)\n",
      "Collecting autograd\n",
      "  Downloading autograd-1.6.2-py3-none-any.whl (49 kB)\n",
      "\u001b[2K     \u001b[90m━━━━━━━━━━━━━━━━━━━━━━━━━━━━━━━━━━━━━━━━\u001b[0m \u001b[32m49.3/49.3 kB\u001b[0m \u001b[31m69.7 kB/s\u001b[0m eta \u001b[36m0:00:00\u001b[0ma \u001b[36m0:00:01\u001b[0m\n",
      "\u001b[?25hCollecting toml\n",
      "  Downloading toml-0.10.2-py2.py3-none-any.whl (16 kB)\n",
      "Requirement already satisfied: retworkx in /opt/conda/lib/python3.10/site-packages (from pennylane==0.26) (0.13.0)\n",
      "Requirement already satisfied: numpy in /opt/conda/lib/python3.10/site-packages (from pennylane==0.26) (1.23.5)\n",
      "Requirement already satisfied: scipy in /opt/conda/lib/python3.10/site-packages (from pennylane==0.26) (1.9.3)\n",
      "Collecting pennylane-lightning>=0.26\n",
      "  Downloading PennyLane_Lightning-0.34.0-cp310-cp310-manylinux_2_17_x86_64.manylinux2014_x86_64.whl (18.1 MB)\n",
      "\u001b[2K     \u001b[90m━━━━━━━━━━━━━━━━━━━━━━━━━━━━━━━━━━━━━━━━\u001b[0m \u001b[32m18.1/18.1 MB\u001b[0m \u001b[31m9.1 MB/s\u001b[0m eta \u001b[36m0:00:00\u001b[0m:00:01\u001b[0m00:01\u001b[0m\n",
      "\u001b[?25hCollecting autoray>=0.3.1\n",
      "  Downloading autoray-0.6.7-py3-none-any.whl (49 kB)\n",
      "\u001b[2K     \u001b[90m━━━━━━━━━━━━━━━━━━━━━━━━━━━━━━━━━━━━━━━━\u001b[0m \u001b[32m49.9/49.9 kB\u001b[0m \u001b[31m80.1 kB/s\u001b[0m eta \u001b[36m0:00:00\u001b[0ma \u001b[36m0:00:01\u001b[0m\n",
      "\u001b[?25hCollecting pennylane-lightning>=0.26\n",
      "  Downloading PennyLane_Lightning-0.33.1-cp310-cp310-manylinux_2_17_x86_64.manylinux2014_x86_64.whl (14.0 MB)\n",
      "\u001b[2K     \u001b[90m━━━━━━━━━━━━━━━━━━━━━━━━━━━━━━━━━━━━━━━━\u001b[0m \u001b[32m14.0/14.0 MB\u001b[0m \u001b[31m11.6 MB/s\u001b[0m eta \u001b[36m0:00:00\u001b[0m00:01\u001b[0m00:01\u001b[0m\n",
      "\u001b[?25h  Downloading PennyLane_Lightning-0.33.0-cp310-cp310-manylinux_2_17_x86_64.manylinux2014_x86_64.whl (14.0 MB)\n",
      "\u001b[2K     \u001b[90m━━━━━━━━━━━━━━━━━━━━━━━━━━━━━━━━━━━━━━━━\u001b[0m \u001b[32m14.0/14.0 MB\u001b[0m \u001b[31m12.0 MB/s\u001b[0m eta \u001b[36m0:00:00\u001b[0m00:01\u001b[0m00:01\u001b[0m\n",
      "\u001b[?25h  Downloading PennyLane_Lightning-0.32.0-cp310-cp310-manylinux_2_17_x86_64.manylinux2014_x86_64.whl (13.6 MB)\n",
      "\u001b[2K     \u001b[90m━━━━━━━━━━━━━━━━━━━━━━━━━━━━━━━━━━━━━━━━\u001b[0m \u001b[32m13.6/13.6 MB\u001b[0m \u001b[31m10.8 MB/s\u001b[0m eta \u001b[36m0:00:00\u001b[0m00:01\u001b[0m00:01\u001b[0m\n",
      "\u001b[?25h  Downloading PennyLane_Lightning-0.31.0-cp310-cp310-manylinux_2_17_x86_64.manylinux2014_x86_64.whl (16.6 MB)\n",
      "\u001b[2K     \u001b[90m━━━━━━━━━━━━━━━━━━━━━━━━━━━━━━━━━━━━━━━━\u001b[0m \u001b[32m16.6/16.6 MB\u001b[0m \u001b[31m10.8 MB/s\u001b[0m eta \u001b[36m0:00:00\u001b[0m00:01\u001b[0m00:01\u001b[0m\n",
      "\u001b[?25h  Downloading PennyLane_Lightning-0.30.0-cp310-cp310-manylinux_2_17_x86_64.manylinux2014_x86_64.whl (16.6 MB)\n",
      "\u001b[2K     \u001b[90m━━━━━━━━━━━━━━━━━━━━━━━━━━━━━━━━━━━━━━━━\u001b[0m \u001b[32m16.6/16.6 MB\u001b[0m \u001b[31m5.3 MB/s\u001b[0m eta \u001b[36m0:00:00\u001b[0m00:01\u001b[0m00:01\u001b[0mm\n",
      "\u001b[?25h  Downloading PennyLane_Lightning-0.29.0-cp310-cp310-manylinux_2_17_x86_64.manylinux2014_x86_64.whl (16.5 MB)\n",
      "\u001b[2K     \u001b[90m━━━━━━━━━━━━━━━━━━━━━━━━━━━━━━━━━━━━━━━━\u001b[0m \u001b[32m16.5/16.5 MB\u001b[0m \u001b[31m5.7 MB/s\u001b[0m eta \u001b[36m0:00:00\u001b[0m:00:01\u001b[0m00:01\u001b[0m\n",
      "\u001b[?25h  Downloading PennyLane_Lightning-0.28.2-cp310-cp310-manylinux_2_17_x86_64.manylinux2014_x86_64.whl (15.4 MB)\n",
      "\u001b[2K     \u001b[90m━━━━━━━━━━━━━━━━━━━━━━━━━━━━━━━━━━━━━━━━\u001b[0m \u001b[32m15.4/15.4 MB\u001b[0m \u001b[31m4.9 MB/s\u001b[0m eta \u001b[36m0:00:00\u001b[0m:00:01\u001b[0m00:01\u001b[0m\n",
      "\u001b[?25h  Downloading PennyLane_Lightning-0.28.1-cp310-cp310-manylinux_2_17_x86_64.manylinux2014_x86_64.whl (15.3 MB)\n",
      "\u001b[2K     \u001b[90m━━━━━━━━━━━━━━━━━━━━━━━━━━━━━━━━━━━━━━━━\u001b[0m \u001b[32m15.3/15.3 MB\u001b[0m \u001b[31m6.4 MB/s\u001b[0m eta \u001b[36m0:00:00\u001b[0m:00:01\u001b[0m00:01\u001b[0m\n",
      "\u001b[?25h  Downloading PennyLane_Lightning-0.28.0-cp310-cp310-manylinux_2_17_x86_64.manylinux2014_x86_64.whl (15.4 MB)\n",
      "\u001b[2K     \u001b[90m━━━━━━━━━━━━━━━━━━━━━━━━━━━━━━━━━━━━━━━━\u001b[0m \u001b[32m15.4/15.4 MB\u001b[0m \u001b[31m5.5 MB/s\u001b[0m eta \u001b[36m0:00:00\u001b[0m00:01\u001b[0m00:01\u001b[0mm\n",
      "\u001b[?25hCollecting ninja\n",
      "  Downloading ninja-1.11.1.1-py2.py3-none-manylinux1_x86_64.manylinux_2_5_x86_64.whl (307 kB)\n",
      "\u001b[2K     \u001b[90m━━━━━━━━━━━━━━━━━━━━━━━━━━━━━━━━━━━━━\u001b[0m \u001b[32m307.2/307.2 kB\u001b[0m \u001b[31m447.3 kB/s\u001b[0m eta \u001b[36m0:00:00\u001b[0ma \u001b[36m0:00:01\u001b[0m\n",
      "\u001b[?25hCollecting future>=0.15.2\n",
      "  Downloading future-0.18.3.tar.gz (840 kB)\n",
      "\u001b[2K     \u001b[90m━━━━━━━━━━━━━━━━━━━━━━━━━━━━━━━━━━━━━━━\u001b[0m \u001b[32m840.9/840.9 kB\u001b[0m \u001b[31m1.7 MB/s\u001b[0m eta \u001b[36m0:00:00\u001b[0m00:01\u001b[0m\n",
      "\u001b[?25h  Preparing metadata (setup.py) ... \u001b[?25ldone\n",
      "\u001b[?25hRequirement already satisfied: rustworkx==0.13.0 in /opt/conda/lib/python3.10/site-packages (from retworkx->pennylane==0.26) (0.13.0)\n",
      "Building wheels for collected packages: future\n",
      "  Building wheel for future (setup.py) ... \u001b[?25ldone\n",
      "\u001b[?25h  Created wheel for future: filename=future-0.18.3-py3-none-any.whl size=492025 sha256=f98decd3fce58c272893cab540fd88d4ba296a2cd70478b1c387348b7a77bd73\n",
      "  Stored in directory: /home/jovyan/.cache/pip/wheels/69/c0/ce/f2a18105d619f21239a048bcc58e98d8ce47ac824e0531f1a0\n",
      "Successfully built future\n",
      "Installing collected packages: ninja, appdirs, toml, semantic-version, future, autoray, autograd, pennylane-lightning, pennylane\n",
      "Successfully installed appdirs-1.4.4 autograd-1.6.2 autoray-0.6.7 future-0.18.3 ninja-1.11.1.1 pennylane-0.26.0 pennylane-lightning-0.28.0 semantic-version-2.10.0 toml-0.10.2\n",
      "\n",
      "\u001b[1m[\u001b[0m\u001b[34;49mnotice\u001b[0m\u001b[1;39;49m]\u001b[0m\u001b[39;49m A new release of pip available: \u001b[0m\u001b[31;49m23.1.1\u001b[0m\u001b[39;49m -> \u001b[0m\u001b[32;49m23.3.2\u001b[0m\n",
      "\u001b[1m[\u001b[0m\u001b[34;49mnotice\u001b[0m\u001b[1;39;49m]\u001b[0m\u001b[39;49m To update, run: \u001b[0m\u001b[32;49mpip install --upgrade pip\u001b[0m\n",
      "Note: you may need to restart the kernel to use updated packages.\n"
     ]
    }
   ],
   "source": [
    "pip install pennylane==0.26"
   ]
  },
  {
   "cell_type": "code",
   "execution_count": 36,
   "id": "8c41c605-31ac-4025-8c0f-aa2733b528be",
   "metadata": {
    "tags": []
   },
   "outputs": [
    {
     "name": "stdout",
     "output_type": "stream",
     "text": [
      "Collecting pennylane-qiskit==0.24.0\n",
      "  Downloading PennyLane_qiskit-0.24.0-py3-none-any.whl (34 kB)\n",
      "Requirement already satisfied: networkx>=2.2 in /opt/conda/lib/python3.10/site-packages (from pennylane-qiskit==0.24.0) (3.1)\n",
      "Requirement already satisfied: qiskit>=0.32 in /opt/conda/lib/python3.10/site-packages (from pennylane-qiskit==0.24.0) (0.44.3)\n",
      "Requirement already satisfied: pennylane>=0.23 in /opt/conda/lib/python3.10/site-packages (from pennylane-qiskit==0.24.0) (0.26.0)\n",
      "Requirement already satisfied: mthree>=0.17 in /opt/conda/lib/python3.10/site-packages (from pennylane-qiskit==0.24.0) (1.1.0)\n",
      "Requirement already satisfied: numpy in /opt/conda/lib/python3.10/site-packages (from pennylane-qiskit==0.24.0) (1.23.5)\n",
      "Requirement already satisfied: cython>=0.29 in /opt/conda/lib/python3.10/site-packages (from mthree>=0.17->pennylane-qiskit==0.24.0) (0.29.32)\n",
      "Requirement already satisfied: psutil in /opt/conda/lib/python3.10/site-packages (from mthree>=0.17->pennylane-qiskit==0.24.0) (5.9.4)\n",
      "Requirement already satisfied: qiskit-terra>=0.21 in /opt/conda/lib/python3.10/site-packages (from mthree>=0.17->pennylane-qiskit==0.24.0) (0.25.3)\n",
      "Requirement already satisfied: qiskit-ibmq-provider>=0.19.2 in /opt/conda/lib/python3.10/site-packages (from mthree>=0.17->pennylane-qiskit==0.24.0) (0.20.2)\n",
      "Requirement already satisfied: scipy>=1.3 in /opt/conda/lib/python3.10/site-packages (from mthree>=0.17->pennylane-qiskit==0.24.0) (1.9.3)\n",
      "Requirement already satisfied: orjson>=3.0.0 in /opt/conda/lib/python3.10/site-packages (from mthree>=0.17->pennylane-qiskit==0.24.0) (3.8.5)\n",
      "Requirement already satisfied: autoray>=0.3.1 in /opt/conda/lib/python3.10/site-packages (from pennylane>=0.23->pennylane-qiskit==0.24.0) (0.6.7)\n",
      "Requirement already satisfied: cachetools in /opt/conda/lib/python3.10/site-packages (from pennylane>=0.23->pennylane-qiskit==0.24.0) (5.3.2)\n",
      "Requirement already satisfied: semantic-version>=2.7 in /opt/conda/lib/python3.10/site-packages (from pennylane>=0.23->pennylane-qiskit==0.24.0) (2.10.0)\n",
      "Requirement already satisfied: retworkx in /opt/conda/lib/python3.10/site-packages (from pennylane>=0.23->pennylane-qiskit==0.24.0) (0.13.0)\n",
      "Requirement already satisfied: pennylane-lightning>=0.26 in /opt/conda/lib/python3.10/site-packages (from pennylane>=0.23->pennylane-qiskit==0.24.0) (0.28.0)\n",
      "Requirement already satisfied: appdirs in /opt/conda/lib/python3.10/site-packages (from pennylane>=0.23->pennylane-qiskit==0.24.0) (1.4.4)\n",
      "Requirement already satisfied: toml in /opt/conda/lib/python3.10/site-packages (from pennylane>=0.23->pennylane-qiskit==0.24.0) (0.10.2)\n",
      "Requirement already satisfied: autograd in /opt/conda/lib/python3.10/site-packages (from pennylane>=0.23->pennylane-qiskit==0.24.0) (1.6.2)\n",
      "Requirement already satisfied: rustworkx>=0.13.0 in /opt/conda/lib/python3.10/site-packages (from qiskit-terra>=0.21->mthree>=0.17->pennylane-qiskit==0.24.0) (0.13.0)\n",
      "Requirement already satisfied: python-dateutil>=2.8.0 in /opt/conda/lib/python3.10/site-packages (from qiskit-terra>=0.21->mthree>=0.17->pennylane-qiskit==0.24.0) (2.8.2)\n",
      "Requirement already satisfied: dill>=0.3 in /opt/conda/lib/python3.10/site-packages (from qiskit-terra>=0.21->mthree>=0.17->pennylane-qiskit==0.24.0) (0.3.7)\n",
      "Requirement already satisfied: symengine<0.10,>=0.9 in /opt/conda/lib/python3.10/site-packages (from qiskit-terra>=0.21->mthree>=0.17->pennylane-qiskit==0.24.0) (0.9.2)\n",
      "Requirement already satisfied: sympy>=1.3 in /opt/conda/lib/python3.10/site-packages (from qiskit-terra>=0.21->mthree>=0.17->pennylane-qiskit==0.24.0) (1.11.1)\n",
      "Requirement already satisfied: typing-extensions in /opt/conda/lib/python3.10/site-packages (from qiskit-terra>=0.21->mthree>=0.17->pennylane-qiskit==0.24.0) (4.5.0)\n",
      "Requirement already satisfied: stevedore>=3.0.0 in /opt/conda/lib/python3.10/site-packages (from qiskit-terra>=0.21->mthree>=0.17->pennylane-qiskit==0.24.0) (4.1.1)\n",
      "Requirement already satisfied: ply>=3.10 in /opt/conda/lib/python3.10/site-packages (from qiskit-terra>=0.21->mthree>=0.17->pennylane-qiskit==0.24.0) (3.11)\n",
      "Requirement already satisfied: ninja in /opt/conda/lib/python3.10/site-packages (from pennylane-lightning>=0.26->pennylane>=0.23->pennylane-qiskit==0.24.0) (1.11.1.1)\n",
      "Requirement already satisfied: urllib3>=1.21.1 in /opt/conda/lib/python3.10/site-packages (from qiskit-ibmq-provider>=0.19.2->mthree>=0.17->pennylane-qiskit==0.24.0) (1.26.15)\n",
      "Requirement already satisfied: requests-ntlm<=1.1.0 in /opt/conda/lib/python3.10/site-packages (from qiskit-ibmq-provider>=0.19.2->mthree>=0.17->pennylane-qiskit==0.24.0) (1.1.0)\n",
      "Requirement already satisfied: websockets>=10.0 in /opt/conda/lib/python3.10/site-packages (from qiskit-ibmq-provider>=0.19.2->mthree>=0.17->pennylane-qiskit==0.24.0) (10.4)\n",
      "Requirement already satisfied: websocket-client>=1.5.1 in /opt/conda/lib/python3.10/site-packages (from qiskit-ibmq-provider>=0.19.2->mthree>=0.17->pennylane-qiskit==0.24.0) (1.5.3)\n",
      "Requirement already satisfied: requests>=2.19 in /opt/conda/lib/python3.10/site-packages (from qiskit-ibmq-provider>=0.19.2->mthree>=0.17->pennylane-qiskit==0.24.0) (2.28.2)\n",
      "Requirement already satisfied: future>=0.15.2 in /opt/conda/lib/python3.10/site-packages (from autograd->pennylane>=0.23->pennylane-qiskit==0.24.0) (0.18.3)\n",
      "Requirement already satisfied: six>=1.5 in /opt/conda/lib/python3.10/site-packages (from python-dateutil>=2.8.0->qiskit-terra>=0.21->mthree>=0.17->pennylane-qiskit==0.24.0) (1.16.0)\n",
      "Requirement already satisfied: certifi>=2017.4.17 in /opt/conda/lib/python3.10/site-packages (from requests>=2.19->qiskit-ibmq-provider>=0.19.2->mthree>=0.17->pennylane-qiskit==0.24.0) (2022.12.7)\n",
      "Requirement already satisfied: idna<4,>=2.5 in /opt/conda/lib/python3.10/site-packages (from requests>=2.19->qiskit-ibmq-provider>=0.19.2->mthree>=0.17->pennylane-qiskit==0.24.0) (3.4)\n",
      "Requirement already satisfied: charset-normalizer<4,>=2 in /opt/conda/lib/python3.10/site-packages (from requests>=2.19->qiskit-ibmq-provider>=0.19.2->mthree>=0.17->pennylane-qiskit==0.24.0) (3.1.0)\n",
      "Requirement already satisfied: cryptography>=1.3 in /opt/conda/lib/python3.10/site-packages (from requests-ntlm<=1.1.0->qiskit-ibmq-provider>=0.19.2->mthree>=0.17->pennylane-qiskit==0.24.0) (40.0.2)\n",
      "Requirement already satisfied: ntlm-auth>=1.0.2 in /opt/conda/lib/python3.10/site-packages (from requests-ntlm<=1.1.0->qiskit-ibmq-provider>=0.19.2->mthree>=0.17->pennylane-qiskit==0.24.0) (1.5.0)\n",
      "Requirement already satisfied: pbr!=2.1.0,>=2.0.0 in /opt/conda/lib/python3.10/site-packages (from stevedore>=3.0.0->qiskit-terra>=0.21->mthree>=0.17->pennylane-qiskit==0.24.0) (5.11.1)\n",
      "Requirement already satisfied: mpmath>=0.19 in /opt/conda/lib/python3.10/site-packages (from sympy>=1.3->qiskit-terra>=0.21->mthree>=0.17->pennylane-qiskit==0.24.0) (1.3.0)\n",
      "Requirement already satisfied: cffi>=1.12 in /opt/conda/lib/python3.10/site-packages (from cryptography>=1.3->requests-ntlm<=1.1.0->qiskit-ibmq-provider>=0.19.2->mthree>=0.17->pennylane-qiskit==0.24.0) (1.15.1)\n",
      "Requirement already satisfied: pycparser in /opt/conda/lib/python3.10/site-packages (from cffi>=1.12->cryptography>=1.3->requests-ntlm<=1.1.0->qiskit-ibmq-provider>=0.19.2->mthree>=0.17->pennylane-qiskit==0.24.0) (2.21)\n",
      "Installing collected packages: pennylane-qiskit\n",
      "Successfully installed pennylane-qiskit-0.24.0\n",
      "\n",
      "\u001b[1m[\u001b[0m\u001b[34;49mnotice\u001b[0m\u001b[1;39;49m]\u001b[0m\u001b[39;49m A new release of pip available: \u001b[0m\u001b[31;49m23.1.1\u001b[0m\u001b[39;49m -> \u001b[0m\u001b[32;49m23.3.2\u001b[0m\n",
      "\u001b[1m[\u001b[0m\u001b[34;49mnotice\u001b[0m\u001b[1;39;49m]\u001b[0m\u001b[39;49m To update, run: \u001b[0m\u001b[32;49mpip install --upgrade pip\u001b[0m\n",
      "Note: you may need to restart the kernel to use updated packages.\n"
     ]
    }
   ],
   "source": [
    "pip install pennylane-qiskit==0.24.0"
   ]
  },
  {
   "cell_type": "code",
   "execution_count": 1,
   "id": "0ae6ac49-ef98-4dfd-83ca-af0c5235faa1",
   "metadata": {
    "tags": []
   },
   "outputs": [
    {
     "data": {
      "text/plain": [
       "tensor([ 0.70710678+0.j,  0.        +0.j, -0.70710678+0.j,\n",
       "         0.        +0.j], requires_grad=True)"
      ]
     },
     "execution_count": 1,
     "metadata": {},
     "output_type": "execute_result"
    }
   ],
   "source": [
    "import pennylane as qml\n",
    "\n",
    "dev = qml.device('default.qubit',wires = 2)\n",
    "\n",
    "def qc():\n",
    "    #와이어는 정수로 입력하고 멀티큐빗게이트는 리스트 형태로 입력\n",
    "    qml.PauliX(wires=0)\n",
    "    qml.Hadamard(wires=0)\n",
    "    return qml.state()\n",
    "\n",
    "#회로와 장치를 합함\n",
    "qcirc = qml.QNode(qc,dev)\n",
    "qcirc()"
   ]
  },
  {
   "cell_type": "code",
   "execution_count": 2,
   "id": "7a2c6382-226e-42ae-a92e-dee54afdc8c2",
   "metadata": {
    "tags": []
   },
   "outputs": [
    {
     "data": {
      "text/plain": [
       "tensor([ 0.70710678+0.j,  0.        +0.j, -0.70710678+0.j,\n",
       "         0.        +0.j], requires_grad=True)"
      ]
     },
     "execution_count": 2,
     "metadata": {},
     "output_type": "execute_result"
    }
   ],
   "source": [
    "#어노테이션을 이용해 합치기 가능\n",
    "#qml.state() = state vector\n",
    "#qml.probs(wires=w) w라인의 확률진폭\n",
    "\n",
    "@qml.qnode(dev)\n",
    "def qcirc():\n",
    "    qml.PauliX(wires = 0)\n",
    "    qml.Hadamard(wires=0)\n",
    "    return qml.state()\n",
    "qcirc()"
   ]
  },
  {
   "cell_type": "code",
   "execution_count": 3,
   "id": "e67a1dde-2e84-4019-b55e-728d7350b487",
   "metadata": {
    "tags": []
   },
   "outputs": [],
   "source": [
    "dev = qml.device('default.qubit',wires=1)\n",
    "@qml.qnode(dev)\n",
    "def qcirc(theta):\n",
    "    qml.RX(theta,wires=0)\n",
    "    return qml.state()\n"
   ]
  },
  {
   "cell_type": "code",
   "execution_count": 4,
   "id": "bf3cd782-59fd-4b62-af0e-3dbbeaf0c482",
   "metadata": {
    "tags": []
   },
   "outputs": [
    {
     "name": "stdout",
     "output_type": "stream",
     "text": [
      "0: ──RX(2.00)─┤  State\n"
     ]
    }
   ],
   "source": [
    "print(qml.draw(qcirc)(theta=2))"
   ]
  },
  {
   "cell_type": "code",
   "execution_count": 5,
   "id": "bb221ff9-277f-472a-99c6-b306ff511d4e",
   "metadata": {
    "tags": []
   },
   "outputs": [
    {
     "name": "stdout",
     "output_type": "stream",
     "text": [
      "Probs. wires[1,2] with H in wire 1 :  [0.5 0.  0.5 0. ]\n",
      "sample 1 after H : [0.5 0.  0.5 0. ]\n",
      "sample 2 after H X I : [[1 0]\n",
      " [0 0]\n",
      " [0 0]\n",
      " [1 0]]\n"
     ]
    }
   ],
   "source": [
    "dev = qml.device('default.qubit',wires=3)\n",
    "\n",
    "#확률 얻기\n",
    "@qml.qnode(dev)\n",
    "def qcirc():\n",
    "    qml.Hadamard(wires = 1)\n",
    "    return qml.probs(wires = [1,2])\n",
    "prob = qcirc()\n",
    "print(\"Probs. wires[1,2] with H in wire 1 : \",prob)\n",
    "\n",
    "#shot을 정하지 않은 샘플\n",
    "#실행시 shot을 설정해줘야 함\n",
    "qml.qnode(dev)\n",
    "def circ():\n",
    "    qml.Hadamard(wires=0)\n",
    "    return qml.smaple(wires=0)\n",
    "s1 = qcirc(shots=4)\n",
    "print(\"sample 1 after H :\",s1)\n",
    "\n",
    "#shot을 정한 샘플\n",
    "dev = qml.device('default.qubit',wires=2,shots=4)\n",
    "@qml.qnode(dev)\n",
    "def qcirc():\n",
    "    qml.Hadamard(wires=0)\n",
    "    return qml.sample()\n",
    "s2 = qcirc()\n",
    "print(\"sample 2 after H X I :\",s2)"
   ]
  },
  {
   "cell_type": "code",
   "execution_count": 6,
   "id": "a74ac366-3da0-4e16-affc-aaf14d65bf3d",
   "metadata": {
    "tags": []
   },
   "outputs": [
    {
     "name": "stdout",
     "output_type": "stream",
     "text": [
      "[ 0.        +0.j         -0.35355339+0.85355339j  0.        +0.j\n",
      "  0.14644661-0.35355339j]\n"
     ]
    }
   ],
   "source": [
    "#example 2-5\n",
    "import numpy as np\n",
    "\n",
    "dev = qml.device('default.qubit',wires=2)\n",
    "@qml.qnode(dev)\n",
    "def qcirc():\n",
    "    qml.PauliZ(wires=0)\n",
    "    qml.PauliY(wires=1)\n",
    "    qml.CRY(np.pi/2,wires=[0,1])\n",
    "    qml.U3(np.pi/4,np.pi,0,0)\n",
    "    qml.RZ(phi=np.pi/4,wires=1)\n",
    "    return qml.state()\n",
    "print(qcirc())"
   ]
  },
  {
   "cell_type": "code",
   "execution_count": 13,
   "id": "81eb8881-80ba-454b-a1a3-0ce089cf96ed",
   "metadata": {
    "tags": []
   },
   "outputs": [
    {
     "name": "stdout",
     "output_type": "stream",
     "text": [
      "statevector :  [0.70710678+0.j 0.        +0.j 0.70710678+0.j 0.        +0.j]\n"
     ]
    }
   ],
   "source": [
    "#qiskit.aer를 사용해 시뮬레이션 하기\n",
    "\n",
    "dev = qml.device('qiskit.aer',wires=2,backend='aer_simulator_statevector',shots=None)\n",
    "@qml.qnode(dev)\n",
    "def qcirc():\n",
    "    qml.Hadamard(wires=0)\n",
    "    return qml.state()\n",
    "s = qcirc()\n",
    "print(\"statevector : \",s)"
   ]
  },
  {
   "cell_type": "code",
   "execution_count": null,
   "id": "6fa59726-e34d-4b3b-9a44-b613214f1383",
   "metadata": {
    "tags": []
   },
   "outputs": [],
   "source": [
    "#IBMQ와 연결하기\n",
    "\n",
    "from qiskit import *\n",
    "from qiskit.providers.ibmq import *\n",
    "\n",
    "bck = least_busy(backends(simulator=False)).name()\n",
    "\n",
    "dev = qml.device('qiskit.ibmq',wires=1,backend=bck,provider=prov)\n",
    "\n",
    "#회로 IBMQ에 전송하여 결과 받기\n",
    "@qml.qnode(dev)\n",
    "def qcirc():\n",
    "    qml.Hadamard(wires=0)\n",
    "    return qml.probs(wires=0)\n",
    "print(qcirc())"
   ]
  },
  {
   "cell_type": "code",
   "execution_count": null,
   "id": "87b59803-eb72-4315-bfdd-ec1f8511b517",
   "metadata": {},
   "outputs": [],
   "source": []
  }
 ],
 "metadata": {
  "kernelspec": {
   "display_name": "Python 3 (ipykernel)",
   "language": "python",
   "name": "python3"
  },
  "language_info": {
   "codemirror_mode": {
    "name": "ipython",
    "version": 3
   },
   "file_extension": ".py",
   "mimetype": "text/x-python",
   "name": "python",
   "nbconvert_exporter": "python",
   "pygments_lexer": "ipython3",
   "version": "3.10.8"
  },
  "widgets": {
   "application/vnd.jupyter.widget-state+json": {
    "state": {},
    "version_major": 2,
    "version_minor": 0
   }
  }
 },
 "nbformat": 4,
 "nbformat_minor": 5
}
