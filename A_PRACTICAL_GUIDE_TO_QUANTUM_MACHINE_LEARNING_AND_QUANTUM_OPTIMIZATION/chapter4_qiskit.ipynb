{
 "cells": [
  {
   "cell_type": "code",
   "execution_count": 6,
   "id": "19be2e4a-5122-4cc1-8e92-d7e29c5b87da",
   "metadata": {
    "tags": []
   },
   "outputs": [
    {
     "name": "stdout",
     "output_type": "stream",
     "text": [
      "Collecting dwave-ocean-sdk==6.0.1\n",
      "  Downloading dwave_ocean_sdk-6.0.1-py3-none-any.whl (8.4 kB)\n",
      "Collecting minorminer==0.2.9\n",
      "  Downloading minorminer-0.2.9-cp310-cp310-manylinux_2_17_x86_64.manylinux2014_x86_64.whl (6.0 MB)\n",
      "\u001b[2K     \u001b[90m━━━━━━━━━━━━━━━━━━━━━━━━━━━━━━━━━━━━━━━━\u001b[0m \u001b[32m6.0/6.0 MB\u001b[0m \u001b[31m3.1 MB/s\u001b[0m eta \u001b[36m0:00:00\u001b[0m00:01\u001b[0m00:01\u001b[0mm\n",
      "\u001b[?25hCollecting penaltymodel==1.0.2\n",
      "  Downloading penaltymodel-1.0.2-py3-none-any.whl (36 kB)\n",
      "Collecting dwave-inspector==0.3.0\n",
      "  Downloading dwave_inspector-0.3.0-py3-none-any.whl (26 kB)\n",
      "Collecting dwave-networkx==0.8.12\n",
      "  Downloading dwave_networkx-0.8.12-py3-none-any.whl (97 kB)\n",
      "\u001b[2K     \u001b[90m━━━━━━━━━━━━━━━━━━━━━━━━━━━━━━━━━━━━━━━\u001b[0m \u001b[32m97.5/97.5 kB\u001b[0m \u001b[31m207.9 kB/s\u001b[0m eta \u001b[36m0:00:00\u001b[0ma \u001b[36m0:00:01\u001b[0m\n",
      "\u001b[?25hCollecting dwave-hybrid==0.6.9\n",
      "  Downloading dwave_hybrid-0.6.9-py3-none-any.whl (74 kB)\n",
      "\u001b[2K     \u001b[90m━━━━━━━━━━━━━━━━━━━━━━━━━━━━━━━━━━━━━━━\u001b[0m \u001b[32m74.7/74.7 kB\u001b[0m \u001b[31m160.8 kB/s\u001b[0m eta \u001b[36m0:00:00\u001b[0ma \u001b[36m0:00:01\u001b[0m\n",
      "\u001b[?25hCollecting dwave-greedy==0.2.5\n",
      "  Downloading dwave_greedy-0.2.5-cp310-cp310-manylinux_2_17_x86_64.manylinux2014_x86_64.whl (684 kB)\n",
      "\u001b[2K     \u001b[90m━━━━━━━━━━━━━━━━━━━━━━━━━━━━━━━━━━━━━━━\u001b[0m \u001b[32m684.2/684.2 kB\u001b[0m \u001b[31m1.4 MB/s\u001b[0m eta \u001b[36m0:00:00\u001b[0m00:01\u001b[0m\n",
      "\u001b[?25hCollecting dwave-neal==0.5.9\n",
      "  Downloading dwave_neal-0.5.9-cp310-cp310-manylinux_2_5_x86_64.manylinux1_x86_64.manylinux_2_12_x86_64.manylinux2010_x86_64.whl (525 kB)\n",
      "\u001b[2K     \u001b[90m━━━━━━━━━━━━━━━━━━━━━━━━━━━━━━━━━━━━━━━\u001b[0m \u001b[32m525.6/525.6 kB\u001b[0m \u001b[31m1.2 MB/s\u001b[0m eta \u001b[36m0:00:00\u001b[0m00:01\u001b[0m\n",
      "\u001b[?25hCollecting dimod==0.12.0\n",
      "  Downloading dimod-0.12.0-cp310-cp310-manylinux_2_17_x86_64.manylinux2014_x86_64.whl (15.4 MB)\n",
      "\u001b[2K     \u001b[90m━━━━━━━━━━━━━━━━━━━━━━━━━━━━━━━━━━━━━━━━\u001b[0m \u001b[32m15.4/15.4 MB\u001b[0m \u001b[31m4.3 MB/s\u001b[0m eta \u001b[36m0:00:00\u001b[0m00:01\u001b[0m00:01\u001b[0mm\n",
      "\u001b[?25hCollecting dwave-preprocessing==0.5.1\n",
      "  Downloading dwave_preprocessing-0.5.1-cp310-cp310-manylinux_2_17_x86_64.manylinux2014_x86_64.whl (2.2 MB)\n",
      "\u001b[2K     \u001b[90m━━━━━━━━━━━━━━━━━━━━━━━━━━━━━━━━━━━━━━━━\u001b[0m \u001b[32m2.2/2.2 MB\u001b[0m \u001b[31m1.6 MB/s\u001b[0m eta \u001b[36m0:00:00\u001b[0m00:01\u001b[0m00:01\u001b[0m0m\n",
      "\u001b[?25hCollecting dwave-cloud-client==0.10.3\n",
      "  Downloading dwave_cloud_client-0.10.3-py3-none-any.whl (111 kB)\n",
      "\u001b[2K     \u001b[90m━━━━━━━━━━━━━━━━━━━━━━━━━━━━━━━━━━━━━\u001b[0m \u001b[32m111.4/111.4 kB\u001b[0m \u001b[31m264.0 kB/s\u001b[0m eta \u001b[36m0:00:00\u001b[0ma \u001b[36m0:00:01\u001b[0m\n",
      "\u001b[?25hCollecting dwave-tabu==0.4.5\n",
      "  Downloading dwave_tabu-0.4.5-cp310-cp310-manylinux_2_17_x86_64.manylinux2014_x86_64.whl (721 kB)\n",
      "\u001b[2K     \u001b[90m━━━━━━━━━━━━━━━━━━━━━━━━━━━━━━━━━━━━━━━\u001b[0m \u001b[32m721.8/721.8 kB\u001b[0m \u001b[31m1.5 MB/s\u001b[0m eta \u001b[36m0:00:00\u001b[0m00:01\u001b[0m\n",
      "\u001b[?25hCollecting dwavebinarycsp==0.2.0\n",
      "  Downloading dwavebinarycsp-0.2.0-py3-none-any.whl (35 kB)\n",
      "Collecting dwave-system==1.16.0\n",
      "  Downloading dwave_system-1.16.0-py3-none-any.whl (103 kB)\n",
      "\u001b[2K     \u001b[90m━━━━━━━━━━━━━━━━━━━━━━━━━━━━━━━━━━━━━\u001b[0m \u001b[32m103.4/103.4 kB\u001b[0m \u001b[31m276.7 kB/s\u001b[0m eta \u001b[36m0:00:00\u001b[0m00:01\u001b[0m\n",
      "\u001b[?25hRequirement already satisfied: numpy<2.0.0,>=1.17.3 in /opt/conda/lib/python3.10/site-packages (from dimod==0.12.0->dwave-ocean-sdk==6.0.1) (1.23.5)\n",
      "Requirement already satisfied: pydantic>=1.7.3 in /opt/conda/lib/python3.10/site-packages (from dwave-cloud-client==0.10.3->dwave-ocean-sdk==6.0.1) (2.6.0)\n",
      "Requirement already satisfied: python-dateutil>=2.7 in /opt/conda/lib/python3.10/site-packages (from dwave-cloud-client==0.10.3->dwave-ocean-sdk==6.0.1) (2.8.2)\n",
      "Requirement already satisfied: diskcache>=5.2.1 in /opt/conda/lib/python3.10/site-packages (from dwave-cloud-client==0.10.3->dwave-ocean-sdk==6.0.1) (5.6.3)\n",
      "Requirement already satisfied: homebase>=1.0 in /opt/conda/lib/python3.10/site-packages (from dwave-cloud-client==0.10.3->dwave-ocean-sdk==6.0.1) (1.0.1)\n",
      "Requirement already satisfied: requests[socks]>=2.18 in /opt/conda/lib/python3.10/site-packages (from dwave-cloud-client==0.10.3->dwave-ocean-sdk==6.0.1) (2.28.2)\n",
      "Requirement already satisfied: click>=7.0 in /opt/conda/lib/python3.10/site-packages (from dwave-cloud-client==0.10.3->dwave-ocean-sdk==6.0.1) (8.1.3)\n",
      "Requirement already satisfied: plucky>=0.4.3 in /opt/conda/lib/python3.10/site-packages (from dwave-cloud-client==0.10.3->dwave-ocean-sdk==6.0.1) (0.4.3)\n",
      "Requirement already satisfied: networkx in /opt/conda/lib/python3.10/site-packages (from dwave-hybrid==0.6.9->dwave-ocean-sdk==6.0.1) (3.1)\n",
      "Requirement already satisfied: Flask>=1.1.1 in /opt/conda/lib/python3.10/site-packages (from dwave-inspector==0.3.0->dwave-ocean-sdk==6.0.1) (3.0.1)\n",
      "Collecting networkx\n",
      "  Downloading networkx-2.8.8-py3-none-any.whl (2.0 MB)\n",
      "\u001b[2K     \u001b[90m━━━━━━━━━━━━━━━━━━━━━━━━━━━━━━━━━━━━━━━━\u001b[0m \u001b[32m2.0/2.0 MB\u001b[0m \u001b[31m3.7 MB/s\u001b[0m eta \u001b[36m0:00:00\u001b[0m0:00:01\u001b[0m\n",
      "\u001b[?25hRequirement already satisfied: scipy<2.0.0,>=1.5.2 in /opt/conda/lib/python3.10/site-packages (from dwave-system==1.16.0->dwave-ocean-sdk==6.0.1) (1.9.3)\n",
      "Requirement already satisfied: fasteners in /opt/conda/lib/python3.10/site-packages (from minorminer==0.2.9->dwave-ocean-sdk==6.0.1) (0.19)\n",
      "Requirement already satisfied: rectangle-packer>=2.0.1 in /opt/conda/lib/python3.10/site-packages (from minorminer==0.2.9->dwave-ocean-sdk==6.0.1) (2.0.2)\n",
      "Requirement already satisfied: itsdangerous>=2.1.2 in /opt/conda/lib/python3.10/site-packages (from Flask>=1.1.1->dwave-inspector==0.3.0->dwave-ocean-sdk==6.0.1) (2.1.2)\n",
      "Requirement already satisfied: Jinja2>=3.1.2 in /opt/conda/lib/python3.10/site-packages (from Flask>=1.1.1->dwave-inspector==0.3.0->dwave-ocean-sdk==6.0.1) (3.1.2)\n",
      "Requirement already satisfied: Werkzeug>=3.0.0 in /opt/conda/lib/python3.10/site-packages (from Flask>=1.1.1->dwave-inspector==0.3.0->dwave-ocean-sdk==6.0.1) (3.0.1)\n",
      "Requirement already satisfied: blinker>=1.6.2 in /opt/conda/lib/python3.10/site-packages (from Flask>=1.1.1->dwave-inspector==0.3.0->dwave-ocean-sdk==6.0.1) (1.6.2)\n",
      "Requirement already satisfied: typing-extensions>=4.6.1 in /opt/conda/lib/python3.10/site-packages (from pydantic>=1.7.3->dwave-cloud-client==0.10.3->dwave-ocean-sdk==6.0.1) (4.9.0)\n",
      "Requirement already satisfied: annotated-types>=0.4.0 in /opt/conda/lib/python3.10/site-packages (from pydantic>=1.7.3->dwave-cloud-client==0.10.3->dwave-ocean-sdk==6.0.1) (0.6.0)\n",
      "Requirement already satisfied: pydantic-core==2.16.1 in /opt/conda/lib/python3.10/site-packages (from pydantic>=1.7.3->dwave-cloud-client==0.10.3->dwave-ocean-sdk==6.0.1) (2.16.1)\n",
      "Requirement already satisfied: six>=1.5 in /opt/conda/lib/python3.10/site-packages (from python-dateutil>=2.7->dwave-cloud-client==0.10.3->dwave-ocean-sdk==6.0.1) (1.16.0)\n",
      "Requirement already satisfied: certifi>=2017.4.17 in /opt/conda/lib/python3.10/site-packages (from requests[socks]>=2.18->dwave-cloud-client==0.10.3->dwave-ocean-sdk==6.0.1) (2022.12.7)\n",
      "Requirement already satisfied: charset-normalizer<4,>=2 in /opt/conda/lib/python3.10/site-packages (from requests[socks]>=2.18->dwave-cloud-client==0.10.3->dwave-ocean-sdk==6.0.1) (3.1.0)\n",
      "Requirement already satisfied: idna<4,>=2.5 in /opt/conda/lib/python3.10/site-packages (from requests[socks]>=2.18->dwave-cloud-client==0.10.3->dwave-ocean-sdk==6.0.1) (3.4)\n",
      "Requirement already satisfied: urllib3<1.27,>=1.21.1 in /opt/conda/lib/python3.10/site-packages (from requests[socks]>=2.18->dwave-cloud-client==0.10.3->dwave-ocean-sdk==6.0.1) (1.26.15)\n",
      "Requirement already satisfied: PySocks!=1.5.7,>=1.5.6 in /opt/conda/lib/python3.10/site-packages (from requests[socks]>=2.18->dwave-cloud-client==0.10.3->dwave-ocean-sdk==6.0.1) (1.7.1)\n",
      "Requirement already satisfied: MarkupSafe>=2.0 in /opt/conda/lib/python3.10/site-packages (from Jinja2>=3.1.2->Flask>=1.1.1->dwave-inspector==0.3.0->dwave-ocean-sdk==6.0.1) (2.1.2)\n",
      "Installing collected packages: networkx, dimod, penaltymodel, dwave-tabu, dwave-preprocessing, dwave-networkx, dwave-neal, dwave-greedy, minorminer, dwavebinarycsp, dwave-cloud-client, dwave-system, dwave-inspector, dwave-hybrid, dwave-ocean-sdk\n",
      "  Attempting uninstall: networkx\n",
      "    Found existing installation: networkx 3.1\n",
      "    Uninstalling networkx-3.1:\n",
      "      Successfully uninstalled networkx-3.1\n",
      "  Attempting uninstall: dimod\n",
      "    Found existing installation: dimod 0.12.14\n",
      "    Uninstalling dimod-0.12.14:\n",
      "      Successfully uninstalled dimod-0.12.14\n",
      "  Attempting uninstall: penaltymodel\n",
      "    Found existing installation: penaltymodel 1.1.0\n",
      "    Uninstalling penaltymodel-1.1.0:\n",
      "      Successfully uninstalled penaltymodel-1.1.0\n",
      "  Attempting uninstall: dwave-tabu\n",
      "    Found existing installation: dwave-tabu 0.5.0\n",
      "    Uninstalling dwave-tabu-0.5.0:\n",
      "      Successfully uninstalled dwave-tabu-0.5.0\n",
      "  Attempting uninstall: dwave-preprocessing\n",
      "    Found existing installation: dwave-preprocessing 0.6.5\n",
      "    Uninstalling dwave-preprocessing-0.6.5:\n",
      "      Successfully uninstalled dwave-preprocessing-0.6.5\n",
      "  Attempting uninstall: dwave-networkx\n",
      "    Found existing installation: dwave-networkx 0.8.14\n",
      "    Uninstalling dwave-networkx-0.8.14:\n",
      "      Successfully uninstalled dwave-networkx-0.8.14\n",
      "  Attempting uninstall: dwave-neal\n",
      "    Found existing installation: dwave-neal 0.6.0\n",
      "    Uninstalling dwave-neal-0.6.0:\n",
      "      Successfully uninstalled dwave-neal-0.6.0\n",
      "  Attempting uninstall: dwave-greedy\n",
      "    Found existing installation: dwave-greedy 0.3.0\n",
      "    Uninstalling dwave-greedy-0.3.0:\n",
      "      Successfully uninstalled dwave-greedy-0.3.0\n",
      "  Attempting uninstall: minorminer\n",
      "    Found existing installation: minorminer 0.2.13\n",
      "    Uninstalling minorminer-0.2.13:\n",
      "      Successfully uninstalled minorminer-0.2.13\n",
      "  Attempting uninstall: dwavebinarycsp\n",
      "    Found existing installation: dwavebinarycsp 0.3.0\n",
      "    Uninstalling dwavebinarycsp-0.3.0:\n",
      "      Successfully uninstalled dwavebinarycsp-0.3.0\n",
      "  Attempting uninstall: dwave-cloud-client\n",
      "    Found existing installation: dwave-cloud-client 0.11.2\n",
      "    Uninstalling dwave-cloud-client-0.11.2:\n",
      "      Successfully uninstalled dwave-cloud-client-0.11.2\n",
      "  Attempting uninstall: dwave-system\n",
      "    Found existing installation: dwave-system 1.23.0\n",
      "    Uninstalling dwave-system-1.23.0:\n",
      "      Successfully uninstalled dwave-system-1.23.0\n",
      "  Attempting uninstall: dwave-inspector\n",
      "    Found existing installation: dwave-inspector 0.4.4\n",
      "    Uninstalling dwave-inspector-0.4.4:\n",
      "      Successfully uninstalled dwave-inspector-0.4.4\n",
      "  Attempting uninstall: dwave-hybrid\n",
      "    Found existing installation: dwave-hybrid 0.6.10\n",
      "    Uninstalling dwave-hybrid-0.6.10:\n",
      "      Successfully uninstalled dwave-hybrid-0.6.10\n",
      "  Attempting uninstall: dwave-ocean-sdk\n",
      "    Found existing installation: dwave-ocean-sdk 6.8.0\n",
      "    Uninstalling dwave-ocean-sdk-6.8.0:\n",
      "      Successfully uninstalled dwave-ocean-sdk-6.8.0\n",
      "Successfully installed dimod-0.12.0 dwave-cloud-client-0.10.3 dwave-greedy-0.2.5 dwave-hybrid-0.6.9 dwave-inspector-0.3.0 dwave-neal-0.5.9 dwave-networkx-0.8.12 dwave-ocean-sdk-6.0.1 dwave-preprocessing-0.5.1 dwave-system-1.16.0 dwave-tabu-0.4.5 dwavebinarycsp-0.2.0 minorminer-0.2.9 networkx-2.8.8 penaltymodel-1.0.2\n",
      "\n",
      "\u001b[1m[\u001b[0m\u001b[34;49mnotice\u001b[0m\u001b[1;39;49m]\u001b[0m\u001b[39;49m A new release of pip available: \u001b[0m\u001b[31;49m23.1.1\u001b[0m\u001b[39;49m -> \u001b[0m\u001b[32;49m23.3.2\u001b[0m\n",
      "\u001b[1m[\u001b[0m\u001b[34;49mnotice\u001b[0m\u001b[1;39;49m]\u001b[0m\u001b[39;49m To update, run: \u001b[0m\u001b[32;49mpip install --upgrade pip\u001b[0m\n",
      "Note: you may need to restart the kernel to use updated packages.\n"
     ]
    }
   ],
   "source": [
    "pip install dwave-ocean-sdk==6.0.1"
   ]
  },
  {
   "cell_type": "code",
   "execution_count": 7,
   "id": "eb631e8c-7edb-41cb-9bbd-5da5093090fd",
   "metadata": {
    "tags": []
   },
   "outputs": [
    {
     "name": "stdout",
     "output_type": "stream",
     "text": [
      "BinaryQuadraticModel({0: 0.0, 1: 0.0, 2: 0.0}, {(1, 0): 1.0, (2, 0): 1.0}, 0.0, 'SPIN')\n"
     ]
    }
   ],
   "source": [
    "#ising 모델 사용\n",
    "import dimod\n",
    "\n",
    "J = {(0,1):1,(0,2):1}\n",
    "h = {}\n",
    "problem = dimod.BinaryQuadraticModel(h,J,0.0,dimod.SPIN)\n",
    "print(problem)"
   ]
  },
  {
   "cell_type": "code",
   "execution_count": null,
   "id": "3367223b-ff04-4b18-bb70-2a9dfed05c00",
   "metadata": {},
   "outputs": [],
   "source": [
    "from dwave.system import DWaveSampler\n",
    "#dwave sampler는 quantum annealer에 접근\n",
    "from dwave.system import EmbeddingComposite\n",
    "#embedding composite는 실제 큐빗에 매핑하거나 임베딩하게 해줌\n",
    "\n",
    "sampler = EmbeddingComposite(DWaveSampler())\n",
    "result = sampler.sample(problem, num_reads=10)\n",
    "print(\"The solutions that we have obtained are\")\n",
    "print(result)\n"
   ]
  },
  {
   "cell_type": "code",
   "execution_count": 11,
   "id": "58484ceb-88a5-44cc-8b53-0b0a0b93e617",
   "metadata": {
    "tags": []
   },
   "outputs": [
    {
     "name": "stdout",
     "output_type": "stream",
     "text": [
      "Our variables are:\n",
      "Variables(['x0', 'x1', 'x2'])\n",
      "Our objective is:\n",
      "ObjectiveView({'x0': -5.0, 'x1': 3.0, 'x2': -2.0}, {}, 0.0, {'x0': 'BINARY', 'x1': 'BINARY', 'x2': 'BINARY'})\n",
      "Our constraints are:\n",
      "{'first constraint': Le(ConstraintView({'x0': 1.0, 'x2': 1.0}, {}, 0.0, {'x0': 'BINARY', 'x2': 'BINARY'}), 1.0), 'second constraint': Le(ConstraintView({'x0': 3.0, 'x1': -1.0, 'x2': 3.0}, {}, 0.0, {'x0': 'BINARY', 'x1': 'BINARY', 'x2': 'BINARY'}), 4.0)}\n"
     ]
    }
   ],
   "source": [
    "x0 = dimod.Binary(\"x0\")\n",
    "x1 = dimod.Binary(\"x1\")\n",
    "x2 = dimod.Binary(\"x2\")\n",
    "\n",
    "#이진 방정식으로 전환\n",
    "#objective를 설정하고 조건 제거\n",
    "blp = dimod.ConstrainedQuadraticModel()\n",
    "blp.set_objective(-5*x0+3*x1-2*x2)\n",
    "blp.add_constraint(x0+x2<=1,\"first constraint\")\n",
    "blp.add_constraint(3*x0-x1+3*x2<=4,\"second constraint\")\n",
    "\n",
    "print(\"Our variables are:\")\n",
    "print(blp.variables)\n",
    "print(\"Our objective is:\")\n",
    "print(blp.objective)\n",
    "print(\"Our constraints are:\")\n",
    "print(blp.constraints)"
   ]
  },
  {
   "cell_type": "code",
   "execution_count": 12,
   "id": "0034b847-27c2-44c7-89b7-c1d3594a7405",
   "metadata": {
    "tags": []
   },
   "outputs": [
    {
     "name": "stdout",
     "output_type": "stream",
     "text": [
      "The assignment is {'x0': 1, 'x1': 1, 'x2': 1}\n",
      "Its cost is -4.0\n",
      "Is it feasible? False\n",
      "The violations of the constraints are\n",
      "{'first constraint': 1.0, 'second constraint': 1.0}\n"
     ]
    }
   ],
   "source": [
    "sample1 = {\"x0\":1, \"x1\":1, \"x2\":1}\n",
    "print(\"The assignment is\", sample1)\n",
    "print(\"Its cost is\", blp.objective.energy(sample1))\n",
    "print(\"Is it feasible?\",blp.check_feasible(sample1))\n",
    "print(\"The violations of the constraints are\")\n",
    "print(blp.violations(sample1))"
   ]
  },
  {
   "cell_type": "code",
   "execution_count": 13,
   "id": "8ed5e6cf-0e6c-406d-9f5c-24ddb262975d",
   "metadata": {
    "tags": []
   },
   "outputs": [
    {
     "name": "stdout",
     "output_type": "stream",
     "text": [
      "The assignment is {'x0': 0, 'x1': 0, 'x2': 1}\n",
      "Its cost is -2.0\n",
      "Is it feasible? True\n",
      "The violations of the constraints are\n",
      "{'first constraint': 0.0, 'second constraint': -1.0}\n"
     ]
    }
   ],
   "source": [
    "sample2 = {\"x0\":0, \"x1\":0, \"x2\":1}\n",
    "print(\"The assignment is\", sample2)\n",
    "print(\"Its cost is\", blp.objective.energy(sample2))\n",
    "print(\"Is it feasible?\",blp.check_feasible(sample2))\n",
    "print(\"The violations of the constraints are\")\n",
    "print(blp.violations(sample2))"
   ]
  },
  {
   "cell_type": "code",
   "execution_count": 14,
   "id": "fe36709f-0cef-45eb-90e5-3d05edb1613c",
   "metadata": {
    "tags": []
   },
   "outputs": [
    {
     "name": "stdout",
     "output_type": "stream",
     "text": [
      "The list of assignments is\n",
      "  x0 x1 x2 energy num_oc. is_sat. is_fea.\n",
      "6  1  0  1   -7.0       1 arra...   False\n",
      "2  1  0  0   -5.0       1 arra...    True\n",
      "7  1  1  1   -4.0       1 arra...   False\n",
      "3  1  1  0   -2.0       1 arra...    True\n",
      "4  0  0  1   -2.0       1 arra...    True\n",
      "0  0  0  0    0.0       1 arra...    True\n",
      "5  0  1  1    1.0       1 arra...    True\n",
      "1  0  1  0    3.0       1 arra...    True\n",
      "['INTEGER', 8 rows, 8 samples, 3 variables]\n"
     ]
    }
   ],
   "source": [
    "solver = dimod.ExactCQMSolver()\n",
    "solution = solver.sample_cqm(blp)\n",
    "print(\"The list of assignments is\")\n",
    "print(solution)\n"
   ]
  },
  {
   "cell_type": "code",
   "execution_count": null,
   "id": "aa1aa79d-91d3-402d-87af-6cb5ee7f9358",
   "metadata": {},
   "outputs": [],
   "source": []
  }
 ],
 "metadata": {
  "kernelspec": {
   "display_name": "Python 3 (ipykernel)",
   "language": "python",
   "name": "python3"
  },
  "language_info": {
   "codemirror_mode": {
    "name": "ipython",
    "version": 3
   },
   "file_extension": ".py",
   "mimetype": "text/x-python",
   "name": "python",
   "nbconvert_exporter": "python",
   "pygments_lexer": "ipython3",
   "version": "3.10.8"
  },
  "widgets": {
   "application/vnd.jupyter.widget-state+json": {
    "state": {},
    "version_major": 2,
    "version_minor": 0
   }
  }
 },
 "nbformat": 4,
 "nbformat_minor": 5
}
