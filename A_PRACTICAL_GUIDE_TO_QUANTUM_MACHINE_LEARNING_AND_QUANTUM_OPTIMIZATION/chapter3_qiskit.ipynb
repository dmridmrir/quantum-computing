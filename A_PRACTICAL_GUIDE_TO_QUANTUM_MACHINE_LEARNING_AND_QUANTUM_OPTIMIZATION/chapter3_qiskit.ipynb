{
 "cells": [
  {
   "cell_type": "code",
   "execution_count": 5,
   "id": "582c21bd-eef4-414b-b314-1f6445b50c10",
   "metadata": {
    "tags": []
   },
   "outputs": [
    {
     "name": "stdout",
     "output_type": "stream",
     "text": [
      "Statevector([1.+0.j, 0.+0.j],\n",
      "            dims=(2,))\n",
      "Statevector([0.+0.j, 1.+0.j],\n",
      "            dims=(2,))\n"
     ]
    }
   ],
   "source": [
    "from qiskit.quantum_info import Statevector\n",
    "#양자 상태가 0과 1인 qubit 생성\n",
    "zero = Statevector([1,0])\n",
    "one = Statevector([0,1])\n",
    "print(zero)\n",
    "print(one)"
   ]
  },
  {
   "cell_type": "code",
   "execution_count": 6,
   "id": "d7e148a0-001b-4ea8-b1b2-48816c886214",
   "metadata": {
    "tags": []
   },
   "outputs": [
    {
     "name": "stdout",
     "output_type": "stream",
     "text": [
      "Statevector([1.+0.j, 0.+0.j],\n",
      "            dims=(2,))\n",
      "Statevector([0.+0.j, 1.+0.j],\n",
      "            dims=(2,))\n"
     ]
    }
   ],
   "source": [
    "#|00> 과 |11>생성\n",
    "zero = Statevector.from_int(0,dims=2)\n",
    "one = Statevector.from_int(1,dims = 2)\n",
    "print(zero)\n",
    "print(one)"
   ]
  },
  {
   "cell_type": "code",
   "execution_count": 9,
   "id": "b29caaf0-3c80-4329-9161-4d759f9d6a4e",
   "metadata": {
    "tags": []
   },
   "outputs": [
    {
     "name": "stdout",
     "output_type": "stream",
     "text": [
      "Statevector([0.+0.j, 0.+0.j, 0.+0.j, 0.+0.j, 1.+0.j, 0.+0.j, 0.+0.j,\n",
      "             0.+0.j],\n",
      "            dims=(2, 2, 2))\n"
     ]
    }
   ],
   "source": [
    "#tensor product\n",
    "# |100> 생성\n",
    "# 이진수로 계산\n",
    "# 예) 텐서 곱이 00000001 일 때 이진수로 8을 만들면 111\n",
    "# |1> 2번 텐서곱 하면 00000001이 나옴\n",
    "psi = one.tensor(zero.tensor(zero))\n",
    "print(psi)"
   ]
  },
  {
   "cell_type": "code",
   "execution_count": 10,
   "id": "89dc56c4-de77-4458-bd51-f26754fdbc3a",
   "metadata": {
    "tags": []
   },
   "outputs": [
    {
     "data": {
      "text/latex": [
       "$$ |100\\rangle$$"
      ],
      "text/plain": [
       "<IPython.core.display.Latex object>"
      ]
     },
     "execution_count": 10,
     "metadata": {},
     "output_type": "execute_result"
    }
   ],
   "source": [
    "#텐서 곱의 다른 방법\n",
    "#qiskit은 ^연산자를 텐서곱으로 오버로딩해놓음\n",
    "psi = one^zero^zero\n",
    "psi.draw(\"latex\")"
   ]
  },
  {
   "cell_type": "code",
   "execution_count": 11,
   "id": "0074b2c4-b778-4d46-a7ab-cceeac5b0629",
   "metadata": {
    "tags": []
   },
   "outputs": [
    {
     "data": {
      "text/latex": [
       "$$ |100\\rangle$$"
      ],
      "text/plain": [
       "<IPython.core.display.Latex object>"
      ]
     },
     "execution_count": 11,
     "metadata": {},
     "output_type": "execute_result"
    }
   ],
   "source": [
    "psi = Statevector.from_int(4,dims = 8)\n",
    "psi.draw(\"latex\")"
   ]
  },
  {
   "cell_type": "code",
   "execution_count": 12,
   "id": "4ba915d2-46e3-4fcb-8679-b9dac6d5a183",
   "metadata": {
    "tags": []
   },
   "outputs": [
    {
     "data": {
      "text/latex": [
       "$$\\frac{\\sqrt{2}}{2} |000\\rangle+\\frac{\\sqrt{2}}{2} |111\\rangle$$"
      ],
      "text/plain": [
       "<IPython.core.display.Latex object>"
      ]
     },
     "execution_count": 12,
     "metadata": {},
     "output_type": "execute_result"
    }
   ],
   "source": [
    "from numpy import sqrt\n",
    "#basis state 생성\n",
    "#중첩 상태의 qubit만들기\n",
    "ghz = 1/sqrt(2)*((zero^zero^zero)+(one^one^one))\n",
    "ghz.draw(\"latex\")"
   ]
  },
  {
   "cell_type": "code",
   "execution_count": 14,
   "id": "47448524-88fe-4c07-a63e-67e0a9901ba9",
   "metadata": {
    "tags": []
   },
   "outputs": [
    {
     "name": "stdout",
     "output_type": "stream",
     "text": [
      "ZZI\n",
      " \n",
      "[[ 1.+0.j  0.+0.j  0.+0.j  0.+0.j  0.+0.j  0.+0.j  0.+0.j  0.+0.j]\n",
      " [ 0.+0.j  1.+0.j  0.+0.j  0.+0.j  0.+0.j  0.+0.j  0.+0.j  0.+0.j]\n",
      " [ 0.+0.j  0.+0.j -1.+0.j  0.+0.j  0.+0.j  0.+0.j  0.+0.j  0.+0.j]\n",
      " [ 0.+0.j  0.+0.j  0.+0.j -1.+0.j  0.+0.j  0.+0.j  0.+0.j  0.+0.j]\n",
      " [ 0.+0.j  0.+0.j  0.+0.j  0.+0.j -1.+0.j  0.+0.j  0.+0.j  0.+0.j]\n",
      " [ 0.+0.j  0.+0.j  0.+0.j  0.+0.j  0.+0.j -1.+0.j  0.+0.j  0.+0.j]\n",
      " [ 0.+0.j  0.+0.j  0.+0.j  0.+0.j  0.+0.j  0.+0.j  1.+0.j  0.+0.j]\n",
      " [ 0.+0.j  0.+0.j  0.+0.j  0.+0.j  0.+0.j  0.+0.j  0.+0.j  1.+0.j]]\n",
      "  (0, 0)\t(1+0j)\n",
      "  (1, 1)\t(1+0j)\n",
      "  (2, 2)\t(-1+0j)\n",
      "  (3, 3)\t(-1+0j)\n",
      "  (4, 4)\t(-1+0j)\n",
      "  (5, 5)\t(-1+0j)\n",
      "  (6, 6)\t(1+0j)\n",
      "  (7, 7)\t(1+0j)\n"
     ]
    }
   ],
   "source": [
    "#문자열을 이용한 Z와I배치\n",
    "from qiskit.quantum_info import Pauli\n",
    "Z0Z1 = Pauli(\"ZZI\")\n",
    "print(Z0Z1)\n",
    "print(\" \")\n",
    "print(Z0Z1.to_matrix())\n",
    "\n",
    "#행렬 중 0이 아닌 원소만 표시\n",
    "print(Z0Z1.to_matrix(sparse=True))"
   ]
  },
  {
   "cell_type": "code",
   "execution_count": 17,
   "id": "ebffee7d-f027-4a1c-8a44-17b81df4fbe0",
   "metadata": {
    "tags": []
   },
   "outputs": [
    {
     "name": "stdout",
     "output_type": "stream",
     "text": [
      "1.0 * ZZI\n",
      "+ 1.0 * ZIZ\n",
      " \n",
      "  (0, 0)\t(2+0j)\n",
      "  (3, 3)\t(-2+0j)\n",
      "  (4, 4)\t(-2+0j)\n",
      "  (7, 7)\t(2+0j)\n"
     ]
    },
    {
     "name": "stderr",
     "output_type": "stream",
     "text": [
      "/tmp/ipykernel_60/3593194024.py:3: DeprecationWarning: The class ``qiskit.opflow.primitive_ops.pauli_op.PauliOp`` is deprecated as of qiskit-terra 0.24.0. It will be removed no earlier than 3 months after the release date. For code migration guidelines, visit https://qisk.it/opflow_migration.\n",
      "  H_cut = PauliOp(Pauli(\"ZZI\")) + PauliOp(Pauli(\"ZIZ\"))\n"
     ]
    }
   ],
   "source": [
    "#pauli object -> pauliop로 변환\n",
    "from qiskit.opflow.primitive_ops import PauliOp\n",
    "H_cut = PauliOp(Pauli(\"ZZI\")) + PauliOp(Pauli(\"ZIZ\"))\n",
    "# Z0Z2를 잘못 표기한듯?\n",
    "print(H_cut)\n",
    "print(\" \")\n",
    "print(H_cut.to_spmatrix())"
   ]
  },
  {
   "cell_type": "code",
   "execution_count": 18,
   "id": "565fbf92-d352-4758-8987-4fd9ce09d262",
   "metadata": {
    "tags": []
   },
   "outputs": [
    {
     "name": "stdout",
     "output_type": "stream",
     "text": [
      "1.0 * ZZI\n",
      "+ 1.0 * ZIZ\n"
     ]
    }
   ],
   "source": [
    "from qiskit.opflow import I,Z\n",
    "H_cut = (Z^Z^I) + (Z^I^Z)\n",
    "print(H_cut)"
   ]
  },
  {
   "cell_type": "code",
   "execution_count": 19,
   "id": "dffb60b3-c331-4892-9179-ab2d95092ed1",
   "metadata": {
    "tags": []
   },
   "outputs": [
    {
     "name": "stdout",
     "output_type": "stream",
     "text": [
      "(-2+0j)\n"
     ]
    }
   ],
   "source": [
    "#결과 도출\n",
    "print(psi.expectation_value(H_cut))"
   ]
  },
  {
   "cell_type": "code",
   "execution_count": 20,
   "id": "a94f9e99-b850-419f-8a34-620a800fce9a",
   "metadata": {
    "tags": []
   },
   "outputs": [
    {
     "name": "stdout",
     "output_type": "stream",
     "text": [
      "0j\n",
      "0j\n"
     ]
    }
   ],
   "source": [
    "#excersice 3.4 \n",
    "#write code to compute expctation calue of all possible cuts\n",
    "#|100> 은 위에서 진행했으니 |010>과 |001>만 계산\n",
    "\n",
    "psi010 = one^zero^one\n",
    "psi001 = zero^zero^one\n",
    "\n",
    "print(psi010.expectation_value(H_cut))\n",
    "print(psi001.expectation_value(H_cut))"
   ]
  },
  {
   "cell_type": "code",
   "execution_count": 23,
   "id": "2abca6fd-f92f-40d3-9435-5123620cee1a",
   "metadata": {
    "tags": []
   },
   "outputs": [
    {
     "name": "stdout",
     "output_type": "stream",
     "text": [
      "기댓값 :  (-2+0j)\n"
     ]
    }
   ],
   "source": [
    "#evolve는 matrix-vector multiplication에 사용\n",
    "#inner는 내적에 사용됨\n",
    "print(\"기댓값 : \",psi.inner(psi.evolve(H_cut)))"
   ]
  },
  {
   "cell_type": "code",
   "execution_count": null,
   "id": "afb74cc8-4d63-4496-88b6-ace89b3c7eb1",
   "metadata": {},
   "outputs": [],
   "source": [
    "#subset sum problem\n"
   ]
  }
 ],
 "metadata": {
  "kernelspec": {
   "display_name": "Python 3 (ipykernel)",
   "language": "python",
   "name": "python3"
  },
  "language_info": {
   "codemirror_mode": {
    "name": "ipython",
    "version": 3
   },
   "file_extension": ".py",
   "mimetype": "text/x-python",
   "name": "python",
   "nbconvert_exporter": "python",
   "pygments_lexer": "ipython3",
   "version": "3.10.8"
  },
  "widgets": {
   "application/vnd.jupyter.widget-state+json": {
    "state": {},
    "version_major": 2,
    "version_minor": 0
   }
  }
 },
 "nbformat": 4,
 "nbformat_minor": 5
}
