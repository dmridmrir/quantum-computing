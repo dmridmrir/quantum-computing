{
 "cells": [
  {
   "cell_type": "code",
   "execution_count": 1,
   "id": "8dc994b9-cd20-46be-b20a-2e28bd6f62eb",
   "metadata": {
    "tags": []
   },
   "outputs": [],
   "source": [
    "from qiskit import *\n",
    "import matplotlib\n",
    "import numpy as np\n",
    "from qiskit.providers.aer import AerSimulator\n",
    "from qiskit.visualization import *"
   ]
  },
  {
   "cell_type": "code",
   "execution_count": 35,
   "id": "c9641548-8270-498d-98fb-806d7248c755",
   "metadata": {
    "tags": []
   },
   "outputs": [],
   "source": [
    "q1 = QuantumRegister(1,\"q1\")\n",
    "q2 = QuantumRegister(1,\"q2\")\n",
    "c = ClassicalRegister(1,\"c\")"
   ]
  },
  {
   "cell_type": "code",
   "execution_count": 43,
   "id": "27d1cb9f-0db1-4ddb-a275-a8dcc12ef359",
   "metadata": {},
   "outputs": [
    {
     "name": "stdout",
     "output_type": "stream",
     "text": [
      "{'11': 509, '00': 515}\n"
     ]
    },
    {
     "data": {
      "image/png": "[encoded data removed]",
      "text/plain": [
       "<Figure size 700x500 with 1 Axes>"
      ]
     },
     "execution_count": 43,
     "metadata": {},
     "output_type": "execute_result"
    }
   ],
   "source": [
    "qc = QuantumCircuit(q1,q2)\n",
    "\n",
    "qc.h(0)\n",
    "qc.cx(0,1)\n",
    "qc.measure_all()\n",
    "\n",
    "qc.draw()\n",
    "\n",
    "sim = AerSimulator()\n",
    "\n",
    "job = execute(qc,sim,shots=1024)\n",
    "result = job.result()\n",
    "count = result.get_counts()\n",
    "\n",
    "print(count)\n",
    "\n",
    "plot_histogram(count)\n"
   ]
  },
  {
   "cell_type": "code",
   "execution_count": 39,
   "id": "3dfc77b5-938c-42c7-bd30-e697bd65eb86",
   "metadata": {
    "tags": []
   },
   "outputs": [
    {
     "data": {
      "image/png": "[encoded data removed]",
      "text/plain": [
       "<Figure size 580.387x284.278 with 1 Axes>"
      ]
     },
     "execution_count": 39,
     "metadata": {},
     "output_type": "execute_result"
    }
   ],
   "source": [
    "qc.draw()"
   ]
  },
  {
   "cell_type": "code",
   "execution_count": 2,
   "id": "977cb54c-52ab-4bb4-93cc-c005bb2d6962",
   "metadata": {},
   "outputs": [
    {
     "name": "stdout",
     "output_type": "stream",
     "text": [
      "Statevector([0.70710678+0.j, 0.70710678+0.j, 0.        +0.j,\n",
      "             0.        +0.j],\n",
      "            dims=(2, 2))\n",
      "{'01': 503, '00': 521}\n"
     ]
    }
   ],
   "source": [
    "#save_statevector() = 입력한 시점의 상태 벡터를 저장함\n",
    "\n",
    "qc = QuantumCircuit(2,2)\n",
    "qc.h(0)\n",
    "qc.save_statevector()\n",
    "qc.measure(0,0)\n",
    "qc.measure(1,1)\n",
    "\n",
    "sim = AerSimulator()\n",
    "\n",
    "result = execute(qc,sim,shots = 1024).result()\n",
    "sv = result.get_statevector()\n",
    "print(sv)\n",
    "count = result.get_counts()\n",
    "print(count)"
   ]
  },
  {
   "cell_type": "code",
   "execution_count": 3,
   "id": "ab26da52-8275-43de-b26d-ec7fc8e971ca",
   "metadata": {
    "tags": []
   },
   "outputs": [
    {
     "name": "stdout",
     "output_type": "stream",
     "text": [
      "Operator([[ 0.7071+0.j,  0.7071-0.j],\n",
      "          [ 0.7071+0.j, -0.7071+0.j]],\n",
      "         input_dims=(2,), output_dims=(2,))\n"
     ]
    }
   ],
   "source": [
    "#unitary simulator = 양자 회로를 표현하는 유니터리 행렬을 계산하여 반환\n",
    "#save_unitary = unitary simulator의 현재 상태를 저장함\n",
    "\n",
    "sim_u = AerSimulator(method = 'unitary')\n",
    "qc = QuantumCircuit(1)\n",
    "qc.h(0)\n",
    "qc.save_unitary()\n",
    "result = execute(qc, sim_u).result()\n",
    "U = result.get_unitary(decimals = 4)\n",
    "print(U)"
   ]
  },
  {
   "cell_type": "code",
   "execution_count": 12,
   "id": "46ae39ef-2c8b-4a74-82aa-52ae2b486cbd",
   "metadata": {
    "tags": []
   },
   "outputs": [],
   "source": [
    "dev_list = provider.backends(\n",
    "    filters = lambda x: x.configuration().n_qubits>=5,\n",
    "    simulator = False)"
   ]
  },
  {
   "cell_type": "code",
   "execution_count": 13,
   "id": "d00e43fa-85b8-4a13-806b-c55e5540fa2c",
   "metadata": {
    "tags": []
   },
   "outputs": [],
   "source": [
    "from qiskit.providers.ibmq import *\n",
    "dev = least_busy(dev_list)"
   ]
  },
  {
   "cell_type": "code",
   "execution_count": 14,
   "id": "0e77c983-7672-49a1-a600-937fe619962c",
   "metadata": {
    "tags": []
   },
   "outputs": [
    {
     "name": "stdout",
     "output_type": "stream",
     "text": [
      "Job Status: job has successfully run               \n",
      "{'11': 551, '00': 473}\n",
      "{'01': 52, '10': 57, '00': 491, '11': 424}\n"
     ]
    }
   ],
   "source": [
    "from qiskit.providers.ibmq.job import job_monitor\n",
    "\n",
    "#bell-circuit\n",
    "qc = QuantumCircuit(2)\n",
    "qc.h(0)\n",
    "qc.cx(0,1)\n",
    "qc.measure_all()\n",
    "\n",
    "#state vector를 사용해 회로 가동\n",
    "sim = AerSimulator()\n",
    "result = execute(qc,sim,shots=1024).result()\n",
    "count_sim = result.get_counts()\n",
    "\n",
    "#실제 양자 머신으로 가동\n",
    "job = execute(qc,dev,shots=1024)\n",
    "job_monitor(job)\n",
    "\n",
    "result = job.result()\n",
    "count_dev = result.get_counts()\n",
    "\n",
    "#결과 출력 / 비교\n",
    "print(count_sim)\n",
    "print(count_dev)"
   ]
  },
  {
   "cell_type": "code",
   "execution_count": null,
   "id": "c00f3601-aec5-4459-a732-828632830bc6",
   "metadata": {},
   "outputs": [],
   "source": []
  }
 ],
 "metadata": {
  "kernelspec": {
   "display_name": "Python 3 (ipykernel)",
   "language": "python",
   "name": "python3"
  },
  "language_info": {
   "codemirror_mode": {
    "name": "ipython",
    "version": 3
   },
   "file_extension": ".py",
   "mimetype": "text/x-python",
   "name": "python",
   "nbconvert_exporter": "python",
   "pygments_lexer": "ipython3",
   "version": "3.10.8"
  },
  "widgets": {
   "application/vnd.jupyter.widget-state+json": {
    "state": {},
    "version_major": 2,
    "version_minor": 0
   }
  }
 },
 "nbformat": 4,
 "nbformat_minor": 5
}
