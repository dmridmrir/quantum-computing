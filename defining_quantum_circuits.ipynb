{
 "cells": [
  {
   "cell_type": "markdown",
   "id": "e5be9ea0-7671-4c5a-88d4-8af03eb7267a",
   "metadata": {},
   "source": [
    "# 1 양자 회로\n",
    "\n",
    "큐빗과 실시간 고전 계산과 같은 양자 데이터의 quantum operation으로 구성된 계산적인 루틴\n",
    "\n",
    "양자 게이트, 관측과 초기화의 순서있는 과정이다"
   ]
  },
  {
   "cell_type": "markdown",
   "id": "3518cfbd-ff75-4210-b64c-f45feb3b1fc7",
   "metadata": {},
   "source": [
    "# 2 예시 : Quantum Teleportation\n",
    "\n",
    "## initialization and reset\n",
    "initialization / reset 연산자를 사용하여 입력\n",
    "\n",
    "## quantum gates\n",
    "일련의 양자 게이트를 적용하는 단계\n",
    "\n",
    "## measurement\n",
    "각 큐빗의 측정상태를 해석하여 고전 데이터로 나타내는 단계\n",
    "\n",
    "## classically conditioned quantum gates\n",
    "측정 결과에 따라 달라지는 게이트를 적용"
   ]
  },
  {
   "cell_type": "markdown",
   "id": "9ee2a6d8-d006-472c-902c-f165159fcf15",
   "metadata": {},
   "source": [
    "# 3 예시 : Variational Quantum Eigensolvers\n",
    "\n",
    "## the quantum block\n",
    "단일 / 멀티 양자 게이트로 만들어진 reset의 조합으로 양자 상태를 준비하는 단계\n",
    "\n",
    "## the classical block\n",
    "양자 상태가 축정된 이후 결과값을 고전 컴퓨터로 해석하고 비용 함수를 이용해 비용을 계산하는 단계\n",
    "\n",
    "## combined operation\n",
    "classical 에서 계산된 값을 이용하여 양자회로를 준비하고 양자상태 측정 비용이 안정되거나 다른 결과가 나올 때 까지 모든 과정 반복하는 단계"
   ]
  },
  {
   "cell_type": "markdown",
   "id": "379f74fb-b5f1-4a9f-bf77-e795366ad94b",
   "metadata": {},
   "source": [
    "# 4 classical part의 존재 이유\n",
    "\n",
    "양자 컴퓨터는 고전 컴퓨터의 모든 기능을 할 수 있지만 양자 상태의 불안정함 때문에 classical part를 추가한다\n",
    "\n",
    "큐빗을 측정할 때 상태를 붕괴시키고 많은 정보를 파괴한다 이런 과정 때문에 마지막에 측정을 하여 손해를 없앨 수 있다(이론상)\n",
    "\n",
    "마지막으로 양자 연산의 결과를 우리가 사용하기 위해 고전 값으로 interpret해야한다"
   ]
  },
  {
   "cell_type": "code",
   "execution_count": null,
   "id": "5c45f2cb-c215-402b-923b-c30f2e1c93e3",
   "metadata": {},
   "outputs": [],
   "source": []
  }
 ],
 "metadata": {
  "kernelspec": {
   "display_name": "Qiskit v0.45.3 (ipykernel)",
   "language": "python",
   "name": "python3"
  },
  "language_info": {
   "codemirror_mode": {
    "name": "ipython",
    "version": 3
   },
   "file_extension": ".py",
   "mimetype": "text/x-python",
   "name": "python",
   "nbconvert_exporter": "python",
   "pygments_lexer": "ipython3",
   "version": "3.10.8"
  },
  "widgets": {
   "application/vnd.jupyter.widget-state+json": {
    "state": {},
    "version_major": 2,
    "version_minor": 0
   }
  }
 },
 "nbformat": 4,
 "nbformat_minor": 5
}
